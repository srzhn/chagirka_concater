{
  "nbformat": 4,
  "nbformat_minor": 0,
  "metadata": {
    "colab": {
      "provenance": []
    },
    "kernelspec": {
      "name": "python3",
      "display_name": "Python 3"
    },
    "language_info": {
      "name": "python"
    }
  },
  "cells": [
    {
      "cell_type": "markdown",
      "source": [
        "# Подготовка\n",
        "\n",
        "Слева от блоков нажать на запуск (треугольник)."
      ],
      "metadata": {
        "id": "z7MNOPwDSxxa"
      }
    },
    {
      "cell_type": "code",
      "execution_count": 1,
      "metadata": {
        "colab": {
          "base_uri": "https://localhost:8080/"
        },
        "id": "N7sHhPW3MpbE",
        "outputId": "f30f70d4-49ef-4827-c714-f5ca02750f92"
      },
      "outputs": [
        {
          "output_type": "stream",
          "name": "stdout",
          "text": [
            "Cloning into 'chagirka_concater'...\n",
            "remote: Enumerating objects: 44, done.\u001b[K\n",
            "remote: Counting objects: 100% (44/44), done.\u001b[K\n",
            "remote: Compressing objects: 100% (26/26), done.\u001b[K\n",
            "remote: Total 44 (delta 20), reused 39 (delta 15), pack-reused 0\u001b[K\n",
            "Receiving objects: 100% (44/44), 9.95 KiB | 9.95 MiB/s, done.\n",
            "Resolving deltas: 100% (20/20), done.\n"
          ]
        }
      ],
      "source": [
        "!git clone https://github.com/srzhn/chagirka_concater.git\n",
        "!python3 -m pip install -r chagirka_concater/requirements.txt -q\n",
        "\n",
        "import sys\n",
        "sys.path.append('chagirka_concater')\n",
        "\n",
        "import pandas as pd\n",
        "from pathlib import Path\n",
        "from src.concat import join_cells, join_cells_with_colnames\n",
        "from src.xlsx import create_xlsx, create_xlsx_with_qrs, get_xlsx_path, prepare_dataframe\n"
      ]
    },
    {
      "cell_type": "markdown",
      "source": [
        "Надо загрузить сюда свой файл. Это делается следующим образом: на панели слева нажимаем на кнопку \"Файлы\", дальше в боковом окне выбрать \"Загрузить в сессионное хранилище\"."
      ],
      "metadata": {
        "id": "zzKbl59JNbKT"
      }
    },
    {
      "cell_type": "markdown",
      "source": [],
      "metadata": {
        "id": "kXvKdNlqWfGF"
      }
    },
    {
      "cell_type": "markdown",
      "source": [
        "# csv2xlsx\n",
        "\n",
        "Создает из csv-файлов эксели нужного формата."
      ],
      "metadata": {
        "id": "SQRoD2prWjCc"
      }
    },
    {
      "cell_type": "code",
      "source": [
        "# @title Запуск.\n",
        "\n",
        "# @markdown Выставить параметры и запустить ячейку (Треугольник слева).\n",
        "# @markdown\n",
        "# @markdown __Название файла__\n",
        "path = 'file.csv' # @param {type:\"string\"}\n",
        "# @markdown __Название выходного файла__\n",
        "filename = 'table.xlsx' # @param {type:\"string\"}\n",
        "\n",
        "def main(path, filename):\n",
        "    path = Path(path)\n",
        "    if not path.exists():\n",
        "        print(f'Файл не найден.')\n",
        "        return 0\n",
        "\n",
        "    elif path.suffix.endswith('xlsx'):\n",
        "        df = pd.read_excel(path)\n",
        "\n",
        "    elif path.suffix.endswith('csv'):\n",
        "        df = pd.read_csv(path)\n",
        "\n",
        "    else:\n",
        "        print('Неизвестное расширение, обрабатывается только csv или xlsx.')\n",
        "        return 0\n",
        "\n",
        "    df = prepare_dataframe(df)\n",
        "\n",
        "    result_xlsx_path = get_xlsx_path(path, filename)\n",
        "    create_xlsx(df, filepath=result_xlsx_path, sheet_name='Data')\n",
        "\n",
        "    print(f'Done. \\\"{result_xlsx_path.absolute()}\\\"')\n",
        "    return 0\n",
        "\n",
        "main(path, filename)"
      ],
      "metadata": {
        "colab": {
          "base_uri": "https://localhost:8080/"
        },
        "cellView": "form",
        "id": "PeeMkWGKUUzV",
        "outputId": "624309c9-9748-4f14-94b1-49edd39df0e7"
      },
      "execution_count": 16,
      "outputs": [
        {
          "output_type": "stream",
          "name": "stdout",
          "text": [
            "Файл не найден.\n"
          ]
        },
        {
          "output_type": "execute_result",
          "data": {
            "text/plain": [
              "0"
            ]
          },
          "metadata": {},
          "execution_count": 16
        }
      ]
    },
    {
      "cell_type": "markdown",
      "source": [
        "# Генератор QR-кодов"
      ],
      "metadata": {
        "id": "_IZVhIySWl2G"
      }
    },
    {
      "cell_type": "code",
      "source": [
        "# @title Запуск\n",
        "# @markdown Выставить параметры и запустить ячейку (Треугольник слева).\n",
        "# @markdown\n",
        "# @markdown __Название файла__\n",
        "path = 'to_print_2024-07-28.xlsx' # @param {type:\"string\"}\n",
        "# @markdown __Название выходного файла__\n",
        "filename = 'result_qr.xlsx' # @param {type:\"string\"}\n",
        "# @markdown __Не генерировать QR-коды__\n",
        "skip_qr_codes = False # @param {type:\"boolean\"}\n",
        "# @markdown __Не добавлять названия колонок__\n",
        "skip_col_names = False # @param {type:\"boolean\"}\n",
        "\n",
        "def main(path, filename, skip_qr_codes, skip_col_names):\n",
        "    path = Path(path)\n",
        "\n",
        "    if path.suffix == '':\n",
        "        path = Path(path.parent, path.stem + '.xlsx')\n",
        "\n",
        "    if not path.suffix.endswith('xlsx'):\n",
        "        print(f'Неподходящее расширение {path.suffix}. Обрабатываются только `.xlsx`')\n",
        "        return 0\n",
        "\n",
        "    if path is None or not path.exists():\n",
        "        print(f'Файл {path.absolute()} не найден.')\n",
        "        return 0\n",
        "\n",
        "    # Читаем эксель\n",
        "    df = pd.read_excel(path)\n",
        "\n",
        "    # Конкатенируем строку в зависимости от алгоритма: без названия колонок или с ними.\n",
        "    if skip_col_names:\n",
        "        labels = join_cells(df)\n",
        "    else:\n",
        "        labels = join_cells_with_colnames(df)\n",
        "\n",
        "    # Генерируем название нового файла (либо на основе filename, либо добавлением префикса к существующему.)\n",
        "    # Файлы не перезаписываются, при совпадении добавляется временная характеристика в название (см. src/xlsx.py).\n",
        "    result_xlsx_path = get_xlsx_path(path, filename)\n",
        "\n",
        "    # Сохраняем лэйблы в новый файл.\n",
        "    if skip_qr_codes:\n",
        "        create_xlsx(labels, result_xlsx_path, sheet_name='Labels')\n",
        "    else:\n",
        "        create_xlsx_with_qrs(labels, result_xlsx_path, sheet_name='QRcodes', qr_size=3)\n",
        "\n",
        "    print(f'Done. \\\"{result_xlsx_path.absolute()}\\\"')\n",
        "    return 0\n",
        "\n",
        "main(path, filename, skip_qr_codes, skip_col_names)"
      ],
      "metadata": {
        "colab": {
          "base_uri": "https://localhost:8080/"
        },
        "cellView": "form",
        "id": "GjF9Pf3LM6n-",
        "outputId": "86bceef4-b750-4bac-b9c7-76e6e4e23b58"
      },
      "execution_count": 15,
      "outputs": [
        {
          "output_type": "stream",
          "name": "stdout",
          "text": [
            "File result_qr.xlsx already exists. Result file is renamed to converted_24-07-28-123639_to_print_2024-07-28.xlsx.\n",
            "Done. \"/content/converted_24-07-28-123639_to_print_2024-07-28.xlsx\"\n"
          ]
        },
        {
          "output_type": "execute_result",
          "data": {
            "text/plain": [
              "0"
            ]
          },
          "metadata": {},
          "execution_count": 15
        }
      ]
    },
    {
      "cell_type": "markdown",
      "source": [
        "# Finally..."
      ],
      "metadata": {
        "id": "97-fW8rTWqjc"
      }
    },
    {
      "cell_type": "markdown",
      "source": [
        "Осталось скачать необходимые файлы:\n",
        "- Навестись на сформированный файл, нажать \"3 точки\".\n",
        "- Скачать."
      ],
      "metadata": {
        "id": "XMfySMHNWFVc"
      }
    },
    {
      "cell_type": "code",
      "source": [],
      "metadata": {
        "id": "RToGIZ4lM6jH"
      },
      "execution_count": null,
      "outputs": []
    },
    {
      "cell_type": "code",
      "source": [],
      "metadata": {
        "id": "AdoB5hV4M6gV"
      },
      "execution_count": null,
      "outputs": []
    }
  ]
}